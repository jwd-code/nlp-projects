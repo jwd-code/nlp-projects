{
 "cells": [
  {
   "cell_type": "code",
   "execution_count": 253,
   "metadata": {},
   "outputs": [],
   "source": [
    "import re\n",
    "from nltk.tokenize import word_tokenize, sent_tokenize\n",
    "import random\n",
    "\n",
    "speeches = \"C:\\\\Users\\\\Jerem\\\\Desktop\\\\trump-speeches\\\\combined.txt\""
   ]
  },
  {
   "cell_type": "code",
   "execution_count": 254,
   "metadata": {},
   "outputs": [],
   "source": [
    "def cleanText(text):\n",
    "    clean_text = text.strip().lower()\n",
    "    clean_text = re.sub(\"[^\\w\\s]\", '', clean_text)\n",
    "    clean_text = re.sub(' +', ' ', clean_text)\n",
    "    clean_text = ' '.join(word_tokenize(clean_text, language='English'))\n",
    "    \n",
    "    return clean_text\n"
   ]
  },
  {
   "cell_type": "code",
   "execution_count": 255,
   "metadata": {},
   "outputs": [],
   "source": [
    "with open(speeches, encoding ='utf-8') as speech_file:\n",
    "    for line in speech_file:\n",
    "        sentences = sent_tokenize(line)"
   ]
  },
  {
   "cell_type": "code",
   "execution_count": 260,
   "metadata": {},
   "outputs": [
    {
     "name": "stdout",
     "output_type": "stream",
     "text": [
      "37672\n"
     ]
    }
   ],
   "source": [
    "sents_tokenized = [word_tokenize(cleanText(sent)) for sent in sentences]\n",
    "print(len(sents_tokenized))"
   ]
  },
  {
   "cell_type": "code",
   "execution_count": 257,
   "metadata": {},
   "outputs": [],
   "source": [
    "sent_dict = {} #This is where we house all of the possible words that follow any given word.\n",
    "for line in sents_tokenized:\n",
    "    words = line\n",
    "    for i in range(len(words) - 1):\n",
    "        word = words[i]\n",
    "        fw = words[i+1]\n",
    "        if word not in sent_dict.keys():\n",
    "            sent_dict[word] = [fw]\n",
    "        elif word in sent_dict.keys():\n",
    "            following_words = sent_dict[word] \n",
    "            following_words.append(fw)                                  \n",
    "            sent_dict[word] = following_words\n",
    "    \n",
    "#We don't check if the following word is already stored, so that there is a higher probability\n",
    "#that we select words that frequently follow the word we are looking at.\n",
    "\n"
   ]
  },
  {
   "cell_type": "code",
   "execution_count": 258,
   "metadata": {},
   "outputs": [],
   "source": [
    "def generate_text(sentence_length):\n",
    "    start_word = input('Give me a word to start generating a sentence.')\n",
    "    current_word = start_word\n",
    "    sent = current_word\n",
    "\n",
    "    for i in range(sentence_length):\n",
    "        if current_word not in sent_dict.keys():\n",
    "            pass\n",
    "        try:\n",
    "            possibilities = sent_dict[current_word]\n",
    "        except:\n",
    "            possibilities = ['and']\n",
    "        next_word = random.choice(possibilities)\n",
    "        sent = sent + ' ' + next_word\n",
    "        current_word = next_word\n",
    "\n",
    "    return sent\n"
   ]
  },
  {
   "cell_type": "code",
   "execution_count": 259,
   "metadata": {},
   "outputs": [
    {
     "name": "stdout",
     "output_type": "stream",
     "text": [
      "make america safe place and bear arms without a third time ive ever had obstruction no that mean winning winning again or farm bill and extremists the swamp once and they made in valued much as they didnt come on this crazy democrats are making them all start to have a man who treated so now that shes not sure that dont have done great congressmen are deplorable and if i wouldve been keeping my first got to free to look at 70 million dollars piled up sitting on the ink wasnt so much but north carolina how about time corey\n"
     ]
    }
   ],
   "source": [
    "print(generate_text(100))\n",
    "\n",
    "#Now we have a pretty dumb sentence generator!"
   ]
  }
 ],
 "metadata": {
  "kernelspec": {
   "display_name": "Python 3",
   "language": "python",
   "name": "python3"
  },
  "language_info": {
   "codemirror_mode": {
    "name": "ipython",
    "version": 3
   },
   "file_extension": ".py",
   "mimetype": "text/x-python",
   "name": "python",
   "nbconvert_exporter": "python",
   "pygments_lexer": "ipython3",
   "version": "3.11.0"
  },
  "orig_nbformat": 4
 },
 "nbformat": 4,
 "nbformat_minor": 2
}
