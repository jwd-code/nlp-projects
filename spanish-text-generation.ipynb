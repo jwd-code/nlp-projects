{
 "cells": [
  {
   "attachments": {},
   "cell_type": "markdown",
   "metadata": {},
   "source": [
    "Import Libraries\n"
   ]
  },
  {
   "cell_type": "code",
   "execution_count": 2,
   "metadata": {},
   "outputs": [],
   "source": [
    "import re\n",
    "from nltk.tokenize import word_tokenize\n",
    "import random\n",
    "\n",
    "spanish = \"C:\\\\Users\\\\Jerem\\\\Desktop\\\\nlp-projects\\\\Europarl.es-pt.es\" #This uses the Europarl Spanish corpus, but you can use whatever you want."
   ]
  },
  {
   "attachments": {},
   "cell_type": "markdown",
   "metadata": {},
   "source": [
    "Import and Clean the Data"
   ]
  },
  {
   "cell_type": "code",
   "execution_count": 3,
   "metadata": {},
   "outputs": [],
   "source": [
    "def cleanText(text):\n",
    "    clean_text = text.strip().lower()\n",
    "    #clean_text = re.sub(\"[^\\w\\s]\", '', text)\n",
    "    clean_text = re.sub(' +', ' ', clean_text)\n",
    "    clean_text = ' '.join(word_tokenize(clean_text, language='Spanish'))\n",
    "    \n",
    "    return clean_text\n"
   ]
  },
  {
   "cell_type": "code",
   "execution_count": 4,
   "metadata": {},
   "outputs": [],
   "source": [
    "with open(spanish, encoding ='utf-8') as es_file:\n",
    "    es_lines = [cleanText(next(es_file)) for _ in range(10000)] #Get 10,000 cleaned lines of the text\n",
    "\n",
    "text = ' '.join(es_lines)\n"
   ]
  },
  {
   "cell_type": "code",
   "execution_count": 5,
   "metadata": {},
   "outputs": [],
   "source": [
    "sent_dict = {} #This is where we house all of the possible words that follow any given word."
   ]
  },
  {
   "attachments": {},
   "cell_type": "markdown",
   "metadata": {},
   "source": [
    "Create a Dictionary of Words and Following Words"
   ]
  },
  {
   "cell_type": "code",
   "execution_count": 6,
   "metadata": {},
   "outputs": [],
   "source": [
    "for line in es_lines:\n",
    "    words = line.split()\n",
    "    for i in range(len(words) - 1):\n",
    "        word = words[i]\n",
    "        fw = words[i+1]\n",
    "        if word not in sent_dict.keys():\n",
    "            sent_dict[word] = [fw]\n",
    "        elif word in sent_dict.keys():\n",
    "            following_words = sent_dict[word] \n",
    "            following_words.append(fw)                                    \n",
    "            sent_dict[word] = following_words\n",
    "    \n",
    "#We don't check if the following word is already stored, so that there is a higher probability\n",
    "#that we select words that frequently follow the word we are looking at."
   ]
  },
  {
   "attachments": {},
   "cell_type": "markdown",
   "metadata": {},
   "source": [
    "Make a Dumb Sentence Generator"
   ]
  },
  {
   "cell_type": "code",
   "execution_count": 7,
   "metadata": {},
   "outputs": [],
   "source": [
    "def generate_text(sentence_length):\n",
    "    start_word = input('Give me a Spanish word to start generating a sentence.')\n",
    "    current_word = start_word\n",
    "    sent = current_word\n",
    "\n",
    "    for i in range(sentence_length):\n",
    "        if current_word not in sent_dict.keys():\n",
    "            pass\n",
    "        try:\n",
    "            possibilities = sent_dict[current_word]\n",
    "        except:\n",
    "            possibilities = ['y', 'pero', 'sin embargo']\n",
    "        next_word = random.choice(possibilities)\n",
    "        sent = sent + ' ' + next_word\n",
    "        current_word = next_word\n",
    "    \n",
    "    return sent"
   ]
  },
  {
   "cell_type": "code",
   "execution_count": 8,
   "metadata": {},
   "outputs": [
    {
     "name": "stdout",
     "output_type": "stream",
     "text": [
      "quiero anticiparme ni con el tribunal de acción en la buena fe en los estados miembros y que ha suscitado ásperas controversias al respecto- , si en nuestras promesas , así , en ella misma unión europea para esto dificulta la comisión ... ¡y también en la sociedad civil y mucho más el discurso : uno a la comisión es una cuestión acertadamente que , que impulsar a la resolución y los derechos fundamentales , ha sido , también por el viernes 17 millones de los compromisos contraídos al objeto de ser también a la situación dramática , contribuyendo así ,\n"
     ]
    }
   ],
   "source": [
    "print(generate_text(100))\n",
    "\n",
    "#Now we have a pretty dumb sentence generator!"
   ]
  }
 ],
 "metadata": {
  "kernelspec": {
   "display_name": "Python 3",
   "language": "python",
   "name": "python3"
  },
  "language_info": {
   "codemirror_mode": {
    "name": "ipython",
    "version": 3
   },
   "file_extension": ".py",
   "mimetype": "text/x-python",
   "name": "python",
   "nbconvert_exporter": "python",
   "pygments_lexer": "ipython3",
   "version": "3.11.0"
  },
  "orig_nbformat": 4
 },
 "nbformat": 4,
 "nbformat_minor": 2
}
